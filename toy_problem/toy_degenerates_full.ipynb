{
  "cells": [
    {
      "cell_type": "code",
      "execution_count": 99,
      "id": "9791c415-88f3-4ead-9698-2c72c38dfe5c",
      "metadata": {
        "id": "9791c415-88f3-4ead-9698-2c72c38dfe5c"
      },
      "outputs": [],
      "source": [
        "import jax\n",
        "import jax.numpy as jnp\n",
        "import flax.linen as nn\n",
        "import optax\n",
        "\n",
        "import numpy as np\n",
        "import math\n",
        "from typing import Sequence\n",
        "#import tensorflow_probability.substrates.jax as tfp\n",
        "\n",
        "import matplotlib.pyplot as plt\n",
        "\n",
        "import tensorflow_probability.substrates.jax as tfp"
      ]
    },
    {
      "cell_type": "code",
      "execution_count": 2,
      "id": "738d9e15-77f0-4611-9308-7f9f5aaba3e8",
      "metadata": {
        "id": "738d9e15-77f0-4611-9308-7f9f5aaba3e8"
      },
      "outputs": [],
      "source": [
        "# let's learn a bunch of mles and fishers over a prior"
      ]
    },
    {
      "cell_type": "code",
      "execution_count": 110,
      "id": "984c60ad-b51c-4596-b234-2ccfbeb1fe4b",
      "metadata": {
        "id": "984c60ad-b51c-4596-b234-2ccfbeb1fe4b"
      },
      "outputs": [],
      "source": [
        "# simulator\n",
        "\n",
        "import jax.random as jr\n",
        "\n",
        "n_p = 2\n",
        "n_d = 100\n",
        "input_shape = (n_d,)\n",
        "\n",
        "@jax.jit\n",
        "def Fisher(θ, n_d=n_d):\n",
        "    Σ = θ[1]\n",
        "    return jnp.array([[n_d / Σ, 0.], [0., n_d / (2. * Σ**2.)]])\n",
        "\n",
        "\n",
        "def simulator(key, θ):\n",
        "    return θ[0] + jax.random.normal(key, shape=input_shape) * jnp.sqrt(θ[1])\n",
        "\n",
        "\n",
        "key = jr.PRNGKey(0)\n",
        "\n",
        "key1,key2 = jr.split(key)\n",
        "\n",
        "mu_ = jr.uniform(key1, shape=(10000,), minval=-2, maxval=2)\n",
        "sigma_ = jr.uniform(key2, shape=(10000,), minval=0.5, maxval=3.0)\n",
        "\n",
        "theta_ = jnp.stack([mu_, sigma_], axis=-1)\n",
        "\n",
        "keys = jr.split(key, num=10000)\n",
        "data = jax.vmap(simulator)(keys, theta_)[:, :]"
      ]
    },
    {
      "cell_type": "code",
      "execution_count": 4,
      "id": "1b3b812f-2042-4ab5-99e9-c56491a63fed",
      "metadata": {
        "colab": {
          "base_uri": "https://localhost:8080/"
        },
        "id": "1b3b812f-2042-4ab5-99e9-c56491a63fed",
        "outputId": "9dc69d5d-9ade-4fc7-baea-674d783f5c5d"
      },
      "outputs": [
        {
          "data": {
            "text/plain": [
              "(10000, 100)"
            ]
          },
          "execution_count": 4,
          "metadata": {},
          "output_type": "execute_result"
        }
      ],
      "source": [
        "data.shape"
      ]
    },
    {
      "cell_type": "code",
      "execution_count": 181,
      "id": "67866236-c903-4d7c-a7e6-f1b3b992c440",
      "metadata": {
        "id": "67866236-c903-4d7c-a7e6-f1b3b992c440"
      },
      "outputs": [],
      "source": [
        "#@title fishnets code\n",
        "\n",
        "def fill_triangular(x):\n",
        "    m = x.shape[0] # should be n * (n+1) / 2\n",
        "    # solve for n\n",
        "    n = int(math.sqrt((0.25 + 2 * m)) - 0.5)\n",
        "    idx = (m - (n**2 - m))\n",
        "\n",
        "    x_tail = x[idx:]\n",
        "\n",
        "    return jnp.concatenate([x_tail, jnp.flip(x, [0])], 0).reshape(n, n)\n",
        "\n",
        "def fill_diagonal(a, val):\n",
        "    a = a.at[..., jnp.arange(0, a.shape[0]), jnp.arange(0, a.shape[0])].set(val)\n",
        "\n",
        "    return a\n",
        "\n",
        "def construct_fisher_matrix_single(outputs):\n",
        "    Q = fill_triangular(outputs)\n",
        "    middle = jnp.diag(jnp.triu(Q) - nn.softplus(jnp.triu(Q)))\n",
        "    padding = jnp.zeros(Q.shape)\n",
        "\n",
        "    L = Q - fill_diagonal(padding, middle)\n",
        "\n",
        "    return jnp.einsum('...ij,...jk->...ik', L, jnp.transpose(L, (1, 0)))\n",
        "\n",
        "# def construct_fisher_matrix_single(outputs):\n",
        "#     Q = tfp.math.fill_triangular(outputs)\n",
        "#     middle = jnp.diag(jnp.triu(Q) - nn.softplus(jnp.triu(Q)))\n",
        "#     padding = jnp.zeros(Q.shape)\n",
        "\n",
        "#     L = Q - fill_diagonal(padding, middle)\n",
        "\n",
        "#     return jnp.einsum('...ij,...jk->...ik', L, jnp.transpose(L, (1, 0)))\n",
        "\n",
        "def construct_fisher_matrix_multiple(outputs):\n",
        "    Q = jax.vmap(fill_triangular)(outputs)\n",
        "    # vmap the jnp.diag function for the batch\n",
        "    _diag = jax.vmap(jnp.diag)\n",
        "\n",
        "    middle = _diag(jnp.triu(Q) - nn.softplus(jnp.triu(Q)))\n",
        "    padding = jnp.zeros(Q.shape)\n",
        "\n",
        "    # vmap the fill_diagonal code\n",
        "    L = Q - jax.vmap(fill_diagonal)(padding, middle)\n",
        "\n",
        "    return jnp.einsum('...ij,...jk->...ik', L, jnp.transpose(L, (0, 2, 1)))\n"
      ]
    },
    {
      "cell_type": "code",
      "execution_count": 182,
      "id": "1807283b-af0b-4bcd-876a-15a951984ea0",
      "metadata": {
        "id": "1807283b-af0b-4bcd-876a-15a951984ea0"
      },
      "outputs": [],
      "source": [
        "class MLP(nn.Module):\n",
        "  features: Sequence[int]\n",
        "\n",
        "  @nn.compact\n",
        "  def __call__(self, x):\n",
        "    for feat in self.features[:-1]:\n",
        "      x = nn.elu(nn.Dense(feat)(x))\n",
        "    x = nn.Dense(self.features[-1])(x)\n",
        "    return x\n",
        "\n",
        "\n",
        "class fishnets_MLP(nn.Module):\n",
        "  features: Sequence[int]\n",
        "  n_p: int\n",
        "\n",
        "  @nn.compact\n",
        "  def __call__(self, x):\n",
        "\n",
        "    x = x[:, jnp.newaxis]\n",
        "\n",
        "    for feat in self.features:\n",
        "      x = nn.swish(nn.Dense(feat)(x))\n",
        "    outdim = self.n_p + (self.n_p * (self.n_p + 1) // 2)\n",
        "    x = nn.Dense(outdim)(x)\n",
        "\n",
        "    score = x[..., :self.n_p]\n",
        "    fisher = x[..., self.n_p:]\n",
        "\n",
        "    #print(fisher.shape)\n",
        "\n",
        "    fisher = (construct_fisher_matrix_multiple(fisher))\n",
        "    fisher = fisher.sum(0)\n",
        "    fisher += jnp.eye(self.n_p)\n",
        "    score = score.sum(0)\n",
        "    mle = jnp.einsum('...jk,...k->...j', jnp.linalg.inv(fisher), score)\n",
        "\n",
        "\n",
        "\n",
        "    return mle,fisher\n",
        "\n",
        "\n",
        "class FishnetDeepset(nn.Module):\n",
        "  theta_fid: jnp.array\n",
        "  n_hidden_score: list\n",
        "  n_hidden_fisher: list\n",
        "  n_hidden_globals: list\n",
        "  n_inputs: int=1\n",
        "  n_parameters: int=2\n",
        "  is_iid: bool=True\n",
        "  priorCinv: jnp.array = jnp.eye(2)\n",
        "  priormu: jnp.array = jnp.zeros((2,))\n",
        "\n",
        "  def setup(self):\n",
        "\n",
        "      self.model_score = MLP(self.n_hidden_score)\n",
        "      self.model_fisher = MLP(self.n_hidden_fisher)\n",
        "      self.model_globals = MLP(self.n_hidden_globals + (int(self.n_parameters \\\n",
        "                                      + int(self.n_parameters * (self.n_parameters + 1)) // 2),)\n",
        "                                          )\n",
        "\n",
        "\n",
        "  def __call__(self, x):\n",
        "\n",
        "      x = x[..., jnp.newaxis]\n",
        "\n",
        "      score = self.model_score(x) #[:, jnp.newaxis]\n",
        "      fisher_cholesky = self.model_fisher(x) #[:, jnp.newaxis]\n",
        "\n",
        "      #print(score.shape)\n",
        "\n",
        "      t = jnp.mean(score, axis=0) #- jnp.einsum('ij,j->i', self.priorCinv, (self.theta_fid - self.priormu))\n",
        "      fisher_cholesky = jnp.mean(fisher_cholesky, axis=0)\n",
        "\n",
        "      #print(\"t\", t.shape)\n",
        "      #print(\"fisher\", fisher_cholesky.shape)\n",
        "\n",
        "      outputs = self.model_globals(jnp.concatenate([t, fisher_cholesky], axis=-1))\n",
        "\n",
        "\n",
        "      t = outputs[:self.n_parameters]\n",
        "      fisher_cholesky = outputs[self.n_parameters:]\n",
        "\n",
        "      #\n",
        "      # print(\"fisher cholesky\", fisher_cholesky.shape)\n",
        "\n",
        "      F = construct_fisher_matrix_single((fisher_cholesky)) + self.priorCinv\n",
        "      # #+ self.priorCinv\n",
        "\n",
        "      #mle = t\n",
        "      mle = t #self.theta_fid + t #jnp.einsum('jk,k->j', jnp.linalg.inv(F), t)\n",
        "\n",
        "      return mle, F\n",
        "\n",
        "\n"
      ]
    },
    {
      "cell_type": "code",
      "execution_count": 183,
      "id": "626e73ef-498d-44ac-89bf-8412aa69d485",
      "metadata": {
        "id": "626e73ef-498d-44ac-89bf-8412aa69d485"
      },
      "outputs": [],
      "source": [
        "key = jax.random.PRNGKey(0)\n",
        "\n",
        "model = FishnetDeepset(jnp.ones(2,),\n",
        "                n_hidden_fisher=[128,128],\n",
        "                n_hidden_score=[128,128],\n",
        "                n_hidden_globals=[50,50],\n",
        "                n_inputs=1,\n",
        "                n_parameters=2,\n",
        "                is_iid=True)\n",
        "\n",
        "w = model.init(key, jnp.ones((10,)))\n",
        "\n",
        "mle, F = model.apply(w, jnp.ones((10,)))"
      ]
    },
    {
      "cell_type": "code",
      "execution_count": 184,
      "id": "HsR01TO937ff",
      "metadata": {
        "colab": {
          "base_uri": "https://localhost:8080/"
        },
        "id": "HsR01TO937ff",
        "outputId": "e0ef4cd6-feac-4526-f3a1-70ec3def5122"
      },
      "outputs": [
        {
          "data": {
            "text/plain": [
              "(Array([[ 1.7194873, -0.5037565],\n",
              "        [-0.5037565,  2.3502917]], dtype=float32),\n",
              " Array([0.06356296, 0.3846492 ], dtype=float32))"
            ]
          },
          "execution_count": 184,
          "metadata": {},
          "output_type": "execute_result"
        }
      ],
      "source": [
        "F, mle"
      ]
    },
    {
      "cell_type": "code",
      "execution_count": 185,
      "id": "sgiJO0900dZg",
      "metadata": {
        "colab": {
          "base_uri": "https://localhost:8080/"
        },
        "id": "sgiJO0900dZg",
        "outputId": "a344f02e-33d3-4523-ad87-1dbc421ef859"
      },
      "outputs": [
        {
          "data": {
            "text/plain": [
              "(Array([[ 1.7194873, -0.5037565],\n",
              "        [-0.5037565,  2.3502917]], dtype=float32),\n",
              " Array([0.06356296, 0.3846492 ], dtype=float32))"
            ]
          },
          "execution_count": 185,
          "metadata": {},
          "output_type": "execute_result"
        }
      ],
      "source": [
        "F, mle"
      ]
    },
    {
      "cell_type": "code",
      "execution_count": 186,
      "id": "5904651e-9cec-4bd2-8ddf-bad0d4ce7359",
      "metadata": {
        "id": "5904651e-9cec-4bd2-8ddf-bad0d4ce7359"
      },
      "outputs": [],
      "source": [
        "@jax.jit\n",
        "def kl_loss(w, x_batched, theta_batched):\n",
        "\n",
        "    def fn(x, theta):\n",
        "       mle,F = model.apply(w, x)\n",
        "       return mle, F\n",
        "\n",
        "    mle,F = jax.vmap(fn)(x_batched, theta_batched)\n",
        "\n",
        "    return -jnp.mean(-0.5 * jnp.einsum('ij,ij->i', (theta_batched - mle), \\\n",
        "                                             jnp.einsum('ijk,ik->ij', F, (theta_batched - mle))) \\\n",
        "                                                  + 0.5*jnp.log(jnp.linalg.det(F)), axis=0)"
      ]
    },
    {
      "cell_type": "code",
      "execution_count": 187,
      "id": "450d4e03-fb3d-4be3-bd10-94dfe081ccdb",
      "metadata": {
        "id": "450d4e03-fb3d-4be3-bd10-94dfe081ccdb"
      },
      "outputs": [],
      "source": [
        "from tqdm import tqdm\n",
        "import optax\n",
        "tx = optax.adam(learning_rate=1e-4)\n",
        "opt_state = tx.init(w)\n",
        "loss_grad_fn = jax.value_and_grad(kl_loss)\n",
        "\n",
        "\n",
        "batch_size = 100\n",
        "epochs = 100\n",
        "\n",
        "w = w\n",
        "\n",
        "losses = []"
      ]
    },
    {
      "cell_type": "code",
      "execution_count": 188,
      "id": "Mzis-2lX16YZ",
      "metadata": {
        "id": "Mzis-2lX16YZ"
      },
      "outputs": [],
      "source": [
        "batch_size = 100\n",
        "\n",
        "data_batched = data.reshape(-1, batch_size, n_d)\n",
        "theta_batched = theta_.reshape(-1, batch_size, n_p)"
      ]
    },
    {
      "cell_type": "code",
      "execution_count": 189,
      "id": "gudhV3DHWRgx",
      "metadata": {
        "id": "gudhV3DHWRgx"
      },
      "outputs": [],
      "source": [
        "def body_fun(i, inputs):\n",
        "    w,loss_val, opt_state = inputs\n",
        "    data_samples = data_batched[i]\n",
        "    theta_samples = theta_batched[i]\n",
        "\n",
        "    loss_val, grads = loss_grad_fn(w, data_samples, theta_samples)\n",
        "    updates, opt_state = tx.update(grads, opt_state)\n",
        "    w = optax.apply_updates(w, updates)\n",
        "\n",
        "    return w, loss_val, opt_state"
      ]
    },
    {
      "cell_type": "code",
      "execution_count": 202,
      "id": "WB4-WuARWkSl",
      "metadata": {
        "colab": {
          "base_uri": "https://localhost:8080/"
        },
        "id": "WB4-WuARWkSl",
        "outputId": "f34afa80-497f-4f32-beb5-556814fb5ea3"
      },
      "outputs": [
        {
          "name": "stderr",
          "output_type": "stream",
          "text": [
            "epoch loss 999: -2.5579: 100%|██████████| 1000/1000 [00:23<00:00, 43.41it/s]\n"
          ]
        }
      ],
      "source": [
        "from tqdm import tqdm\n",
        "#batch_size = 100\n",
        "\n",
        "epochs = 1000\n",
        "\n",
        "key = jax.random.PRNGKey(99)\n",
        "\n",
        "# training loop shit\n",
        "key = jax.random.PRNGKey(88)\n",
        "losses = jnp.zeros(epochs)\n",
        "detFetas = jnp.zeros(epochs)\n",
        "\n",
        "loss_val = 0.\n",
        "detFeta = 0.\n",
        "\n",
        "lower = 0\n",
        "upper = epochs // batch_size\n",
        "\n",
        "counter = 0\n",
        "\n",
        "pbar = tqdm(range(epochs), leave=True, position=0)\n",
        "\n",
        "for j in pbar:\n",
        "  key,rng = jax.random.split(key)\n",
        "  inits = (w, loss_val, opt_state)\n",
        "\n",
        "  w, loss_val, opt_state = jax.lax.fori_loop(lower, upper, body_fun, inits)\n",
        "\n",
        "    #if i % 10 == 0:\n",
        "\n",
        "    #  val_loss, _ = loss_grad_fn(w, X_test, y_test)\n",
        "      #print('loss step {}: '.format(i), loss_val)\n",
        "      #print('val loss step {}: '.format(i), val_loss_val)\n",
        "\n",
        "  losses = losses.at[j].set(loss_val)\n",
        "  #val_losses.append(val_loss)\n",
        "  pbar.set_description('epoch loss %d: %.4f'%(j, loss_val))"
      ]
    },
    {
      "cell_type": "code",
      "execution_count": 203,
      "id": "m6gscVR63Y3C",
      "metadata": {
        "colab": {
          "base_uri": "https://localhost:8080/",
          "height": 448
        },
        "id": "m6gscVR63Y3C",
        "outputId": "a8f88fcc-c768-4cb4-8c65-4b56a03c6a34"
      },
      "outputs": [
        {
          "data": {
            "text/plain": [
              "[<matplotlib.lines.Line2D at 0x7a4b50446bc0>]"
            ]
          },
          "execution_count": 203,
          "metadata": {},
          "output_type": "execute_result"
        },
        {
          "data": {
            "image/png": "[encoded data removed]",
            "text/plain": [
              "<Figure size 640x480 with 1 Axes>"
            ]
          },
          "metadata": {},
          "output_type": "display_data"
        }
      ],
      "source": [
        "plt.plot(losses)"
      ]
    },
    {
      "cell_type": "code",
      "execution_count": 204,
      "id": "itCEyxI33DlC",
      "metadata": {
        "colab": {
          "base_uri": "https://localhost:8080/"
        },
        "id": "itCEyxI33DlC",
        "outputId": "8bcc6d44-87d6-4961-f4c7-023813448561"
      },
      "outputs": [
        {
          "data": {
            "text/plain": [
              "(1000, 100)"
            ]
          },
          "execution_count": 204,
          "metadata": {},
          "output_type": "execute_result"
        }
      ],
      "source": [
        "data[-1000:].shape"
      ]
    },
    {
      "cell_type": "code",
      "execution_count": 205,
      "id": "CzMPV5S9UVNJ",
      "metadata": {
        "id": "CzMPV5S9UVNJ"
      },
      "outputs": [],
      "source": [
        "_appl = lambda d: model.apply(w, d)\n",
        "mle_pred,F_pred = jax.vmap(_appl)(data[-1000:])"
      ]
    },
    {
      "cell_type": "code",
      "execution_count": 206,
      "id": "c8OauOhVUNcD",
      "metadata": {
        "colab": {
          "base_uri": "https://localhost:8080/",
          "height": 448
        },
        "id": "c8OauOhVUNcD",
        "outputId": "e33d5be8-a471-4ce8-d866-7f61447eb459"
      },
      "outputs": [
        {
          "data": {
            "text/plain": [
              "<matplotlib.collections.PathCollection at 0x7a4aff7ea320>"
            ]
          },
          "execution_count": 206,
          "metadata": {},
          "output_type": "execute_result"
        },
        {
          "data": {
            "image/png": "[encoded data removed]",
            "text/plain": [
              "<Figure size 640x480 with 2 Axes>"
            ]
          },
          "metadata": {},
          "output_type": "display_data"
        }
      ],
      "source": [
        "plt.subplot(121)\n",
        "plt.scatter(theta_[-1000:, 0], mle_pred[:, 0], s=2)\n",
        "plt.subplot(122)\n",
        "plt.scatter(theta_[-1000:, 1], mle_pred[:, 1], s=2)"
      ]
    },
    {
      "cell_type": "code",
      "execution_count": 207,
      "id": "ec5cd7fd-89b5-4c63-aac1-503676f32613",
      "metadata": {
        "id": "ec5cd7fd-89b5-4c63-aac1-503676f32613"
      },
      "outputs": [],
      "source": [
        "@jax.jit\n",
        "def Fisher(θ, n_d=n_d):\n",
        "    Σ = θ[1]\n",
        "    return jnp.array([[n_d / Σ, 0.], [0., n_d / (2. * Σ**2.)]])\n",
        "\n",
        "F_true = jax.vmap(Fisher)(theta_[-1000:])"
      ]
    },
    {
      "cell_type": "code",
      "execution_count": 208,
      "id": "GS1Cth7iVwQM",
      "metadata": {
        "colab": {
          "base_uri": "https://localhost:8080/"
        },
        "id": "GS1Cth7iVwQM",
        "outputId": "92a2e298-055b-4e9c-b7b0-fea5f93469ed"
      },
      "outputs": [
        {
          "data": {
            "text/plain": [
              "Array([[[112.028824,   0.      ],\n",
              "        [  0.      ,  62.75229 ]],\n",
              "\n",
              "       [[192.69995 ,   0.      ],\n",
              "        [  0.      , 185.66637 ]],\n",
              "\n",
              "       [[ 50.47263 ,   0.      ],\n",
              "        [  0.      ,  12.737433]],\n",
              "\n",
              "       [[ 91.64879 ,   0.      ],\n",
              "        [  0.      ,  41.9975  ]],\n",
              "\n",
              "       [[ 46.800243,   0.      ],\n",
              "        [  0.      ,  10.951315]]], dtype=float32)"
            ]
          },
          "execution_count": 208,
          "metadata": {},
          "output_type": "execute_result"
        }
      ],
      "source": [
        "F_true[:5]"
      ]
    },
    {
      "cell_type": "code",
      "execution_count": 209,
      "id": "lpx6KP22Vyh3",
      "metadata": {
        "colab": {
          "base_uri": "https://localhost:8080/"
        },
        "id": "lpx6KP22Vyh3",
        "outputId": "76b4be97-b400-49e7-a100-dc67dc472c64"
      },
      "outputs": [
        {
          "data": {
            "text/plain": [
              "Array([[[212.33499   ,  -9.132244  ],\n",
              "        [ -9.132244  ,  48.340645  ]],\n",
              "\n",
              "       [[218.82745   ,  -6.511551  ],\n",
              "        [ -6.511551  , 245.08559   ]],\n",
              "\n",
              "       [[ 49.776344  ,   2.1967878 ],\n",
              "        [  2.1967878 ,  13.156134  ]],\n",
              "\n",
              "       [[ 90.81213   ,   0.67567253],\n",
              "        [  0.67567253,  26.869349  ]],\n",
              "\n",
              "       [[ 46.880554  ,   1.111887  ],\n",
              "        [  1.111887  ,  14.5119705 ]]], dtype=float32)"
            ]
          },
          "execution_count": 209,
          "metadata": {},
          "output_type": "execute_result"
        }
      ],
      "source": [
        "F_pred[:5]"
      ]
    },
    {
      "cell_type": "code",
      "execution_count": 210,
      "id": "xltugRehV0NY",
      "metadata": {
        "id": "xltugRehV0NY"
      },
      "outputs": [],
      "source": [
        "θ_fid = jnp.array([0.0, 1.25])\n",
        "\n",
        "lo = [-1.0, 0.5]\n",
        "hi = [1.0, 3.0]\n",
        "\n",
        "num = 10\n",
        "\n",
        "xs = jnp.linspace(-1.0, 1.0, num) # MEAN\n",
        "ys = jnp.linspace(0.5, 3.0, num) #jnp.logspace(-1.0, 0.0, num) # VARIANCE\n",
        "\n",
        "\n",
        "xs,ys = jnp.meshgrid(xs, ys)\n",
        "\n",
        "fishers = []\n",
        "\n",
        "for _mu,_sigma in zip(xs.ravel(), ys.ravel()):\n",
        "  fishers.append(Fisher(jnp.array([_mu,_sigma]), n_d=n_d))"
      ]
    },
    {
      "cell_type": "code",
      "execution_count": 211,
      "id": "fXgk4PDHV3_0",
      "metadata": {
        "colab": {
          "base_uri": "https://localhost:8080/",
          "height": 516
        },
        "id": "fXgk4PDHV3_0",
        "outputId": "99c444cd-f07e-46f3-ac6d-a1d65e043d88"
      },
      "outputs": [
        {
          "name": "stderr",
          "output_type": "stream",
          "text": [
            "WARNING:matplotlib.legend:No artists with labels found to put in legend.  Note that artists whose label start with an underscore are ignored when legend() is called with no argument.\n"
          ]
        },
        {
          "data": {
            "image/png": "[encoded data removed]",
            "text/plain": [
              "<Figure size 640x480 with 2 Axes>"
            ]
          },
          "metadata": {},
          "output_type": "display_data"
        }
      ],
      "source": [
        "_data = jax.vmap(jnp.linalg.det)(jnp.array(fishers)).reshape(xs.shape) #/ ys #jnp.array(fishers)[:, 0, 0].reshape(xs.shape) / ys #jax.vmap(jnp.linalg.det)(jnp.array(fishers)).reshape(xs.shape)\n",
        "\n",
        "im = plt.contourf(xs, ys, 0.5*np.log(_data), cmap='viridis', levels=10)\n",
        "cbar = plt.colorbar(im)\n",
        "#plt.yscale('log')\n",
        "plt.ylabel('$\\Sigma$')\n",
        "plt.xlabel('$\\mu$')\n",
        "plt.title(r'$ \\frac{1}{2} \\ln \\det F_{\\rm true}(\\theta)$')\n",
        "plt.legend(framealpha=0., loc='lower left')\n",
        "plt.show()"
      ]
    },
    {
      "cell_type": "code",
      "execution_count": 212,
      "id": "-oxErcToV67t",
      "metadata": {
        "colab": {
          "base_uri": "https://localhost:8080/"
        },
        "id": "-oxErcToV67t",
        "outputId": "90a082f8-3891-4892-c284-f5a0695103ed"
      },
      "outputs": [
        {
          "name": "stderr",
          "output_type": "stream",
          "text": [
            "100it [00:10,  9.88it/s]\n"
          ]
        }
      ],
      "source": [
        "fishers_pred = []\n",
        "\n",
        "key = jr.PRNGKey(99)\n",
        "n_d_test = 500\n",
        "\n",
        "\n",
        "\n",
        "\n",
        "for mu,sigma in tqdm(zip(xs.ravel(), ys.ravel())):\n",
        "  # generate many data realization at each gridpoint\n",
        "    key, rng = jr.split(key)\n",
        "    keys = jr.split(key, 2000)\n",
        "\n",
        "    sims = jax.vmap(simulator)(keys, jnp.tile(jnp.array([[mu], [sigma]]), 2000).T)\n",
        "\n",
        "    #print(sims.shape)\n",
        "\n",
        "    fpreds = jax.vmap(_appl)(sims)[1]\n",
        "\n",
        "    fishers_pred.append(jnp.mean(fpreds, axis=0))"
      ]
    },
    {
      "cell_type": "code",
      "execution_count": 213,
      "id": "CcoqiVbFV-b6",
      "metadata": {
        "colab": {
          "base_uri": "https://localhost:8080/",
          "height": 407
        },
        "id": "CcoqiVbFV-b6",
        "outputId": "c425c630-2f0a-4a89-f7f5-1b0c36954bf1"
      },
      "outputs": [
        {
          "data": {
            "image/png": "[encoded data removed]",
            "text/plain": [
              "<Figure size 800x400 with 3 Axes>"
            ]
          },
          "metadata": {},
          "output_type": "display_data"
        }
      ],
      "source": [
        "fig, axs = plt.subplots(nrows=1, ncols=2, figsize=(8,4), sharex=\"col\", sharey=True)\n",
        "(ax1, ax2) = axs\n",
        "\n",
        "levels = [2.5, 3.0, 3.5, 4.0, 4.5, 5.0, 5.5]\n",
        "\n",
        "dets1 =  jax.vmap(jnp.linalg.det)(jnp.array(fishers)).reshape(xs.shape)\n",
        "\n",
        "cs1 = ax1.contourf(xs, ys, 0.5*np.log(dets1), cmap='viridis', levels=levels)\n",
        "\n",
        "dets2 = jax.vmap(jnp.linalg.det)(jnp.array(fishers_pred)).reshape(xs.shape)\n",
        "\n",
        "cs2 = ax2.contourf(xs, ys, 0.5*np.log(dets2), cmap='viridis', levels=levels)\n",
        "\n",
        "plt.colorbar(cs1)\n",
        "\n",
        "ax1.set_title(r'$ \\frac{1}{2} \\ln \\det F_{\\rm true}(\\theta)$')\n",
        "\n",
        "ax1.set_ylabel('$\\Sigma$')\n",
        "ax1.set_xlabel('$\\mu$')\n",
        "\n",
        "ax2.set_xlabel('$\\mu$')\n",
        "ax2.set_title(r'$ \\frac{1}{2} \\ln \\det \\langle F_{\\rm NN}(\\theta) \\rangle $')\n",
        "plt.tight_layout()"
      ]
    },
    {
      "cell_type": "code",
      "execution_count": null,
      "id": "8EoLmgDoWCLN",
      "metadata": {
        "id": "8EoLmgDoWCLN"
      },
      "outputs": [],
      "source": []
    },
    {
      "cell_type": "code",
      "execution_count": 214,
      "id": "XdanL_QF7Y2W",
      "metadata": {
        "id": "XdanL_QF7Y2W"
      },
      "outputs": [],
      "source": [
        "# create some new data and fishers and save them\n",
        "\n",
        "\n",
        "@jax.jit\n",
        "def Fisher(θ, n_d=n_d):\n",
        "    Σ = θ[1]\n",
        "    return jnp.array([[n_d / Σ, 0.], [0., n_d / (2. * Σ**2.)]])\n",
        "\n",
        "\n",
        "def simulator(key, θ):\n",
        "    return θ[0] + jax.random.normal(key, shape=input_shape) * jnp.sqrt(θ[1])\n",
        "\n",
        "\n",
        "key = jr.PRNGKey(10000)\n",
        "\n",
        "key1,key2 = jr.split(key)\n",
        "\n",
        "mu_ = jr.uniform(key1, shape=(10000,), minval=-2, maxval=2)\n",
        "sigma_ = jr.uniform(key2, shape=(10000,), minval=0.5, maxval=3.0)\n",
        "\n",
        "theta_test = jnp.stack([mu_, sigma_], axis=-1)\n",
        "\n",
        "keys = jr.split(key, num=10000)\n",
        "data_test = jax.vmap(simulator)(keys, theta_test)[:, :]\n",
        "\n",
        "# calculate network fisher over all the data\n",
        "mle_out, F_network_out = jax.vmap(_appl)(data_test)\n",
        "\n",
        "# calculate true fisher at the same theta\n",
        "F_true_out = jax.vmap(Fisher)(theta_test)"
      ]
    },
    {
      "cell_type": "code",
      "execution_count": 218,
      "id": "Yfkhyz-J8JGZ",
      "metadata": {
        "colab": {
          "base_uri": "https://localhost:8080/"
        },
        "id": "Yfkhyz-J8JGZ",
        "outputId": "cf22a7ae-7bf7-4fbc-8169-db4d1cc68913"
      },
      "outputs": [
        {
          "data": {
            "text/plain": [
              "(10000, 100)"
            ]
          },
          "execution_count": 218,
          "metadata": {},
          "output_type": "execute_result"
        }
      ],
      "source": [
        "data_test.shape"
      ]
    },
    {
      "cell_type": "code",
      "execution_count": 220,
      "id": "sQLH2frS7x8u",
      "metadata": {
        "id": "sQLH2frS7x8u"
      },
      "outputs": [],
      "source": [
        "# save everything\n",
        "np.savez(\"toy_problem_outputs\",\n",
        "         #data=data_test,\n",
        "         mle=mle_out,\n",
        "         theta=theta_test,\n",
        "         F_network=F_network_out,\n",
        "         F_true=F_true_out\n",
        "         )"
      ]
    },
    {
      "cell_type": "code",
      "execution_count": null,
      "id": "F8EQxyfz72T7",
      "metadata": {
        "id": "F8EQxyfz72T7"
      },
      "outputs": [],
      "source": []
    }
  ],
  "metadata": {
    "accelerator": "GPU",
    "colab": {
      "gpuType": "V100",
      "provenance": []
    },
    "kernelspec": {
      "display_name": "Python 3",
      "name": "python3"
    },
    "language_info": {
      "codemirror_mode": {
        "name": "ipython",
        "version": 3
      },
      "file_extension": ".py",
      "mimetype": "text/x-python",
      "name": "python",
      "nbconvert_exporter": "python",
      "pygments_lexer": "ipython3",
      "version": "3.10.13"
    }
  },
  "nbformat": 4,
  "nbformat_minor": 5
}
