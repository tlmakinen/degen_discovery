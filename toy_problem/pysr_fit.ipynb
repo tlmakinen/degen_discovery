{
 "cells": [
  {
   "cell_type": "code",
   "execution_count": null,
   "id": "5d8235ac-9c4d-4fc1-b478-c9492cc1d50b",
   "metadata": {},
   "outputs": [],
   "source": [
    "# load in the eta data"
   ]
  },
  {
   "cell_type": "code",
   "execution_count": null,
   "id": "daf0d94d-2903-44f2-b88b-272616b87954",
   "metadata": {},
   "outputs": [],
   "source": [
    "# fit to just y\n",
    "import numpy as np\n",
    "from pysr import PySRRegressor\n",
    "\n",
    "\n",
    "\n",
    "\n",
    "\n",
    "\n",
    "datafile = np.load(\"toyproblem_noisy_sr_data.npz\")\n",
    "\n",
    "skip = 1\n",
    "finish = 3000\n",
    "\n",
    "X = datafile[\"theta\"][::skip, :]\n",
    "y = datafile[\"eta\"][::skip, :]\n",
    "∂y = datafile[\"jacobians\"][::skip, :, :]\n",
    "\n",
    "size(X), size(y), size(∂y)\n",
    "\n",
    "\n",
    "\n",
    "# choose which variable to do\n",
    "\n",
    "idx = 2\n",
    "\n",
    "\n",
    "model = PySRRegressor(\n",
    "    niterations=200,  # < Increase me for better results\n",
    "    binary_operators=[\"+\", \"*\", \"pow\", \"/\"],\n",
    "    unary_operators=[\n",
    "        \"log\",\n",
    "        \"sqrt\",\n",
    "        # ^ Custom operator (julia syntax)\n",
    "    ],\n",
    "    constraints={'pow': (-1, 1), \"\"}\n",
    "\n",
    "    batch_size=30\n",
    "    #extra_sympy_mappings={\"inv\": lambda x: 1 / x},\n",
    "    # ^ Define operator for SymPy as well\n",
    "    #loss=\"loss(prediction, target) = (prediction - target)^2\",\n",
    "    # ^ Custom loss function (julia syntax)\n",
    ")\n",
    "\n",
    "\n",
    "model = SRRegressor(;\n",
    "    binary_operators=[+, *, ^, /],\n",
    "    unary_operators=[log, sqrt],\n",
    "    constraints=[(^)=>(-1, 9)],\n",
    "    #nested_constraints=[(^) => [(^) => 0, log => 0],\n",
    "    #               log => [(^) =>  0, log => 0],\n",
    "                #    exp => [log => 0]\n",
    "    #    ],\n",
    "    #loss_function=mse_loss_check_autograd,\n",
    "    #enable_autodiff=true,\n",
    "    batching=true,\n",
    "    batch_size=30,\n",
    "    niterations=500,\n",
    "    #parsimony=100,\n",
    ")\n",
    "mach = machine(model, X, y[:, idx]) #, (; ∂y=∂y[:, idx, :]))\n",
    "fit!(mach)"
   ]
  }
 ],
 "metadata": {
  "kernelspec": {
   "display_name": "Python 3 (ipykernel)",
   "language": "python",
   "name": "python3"
  },
  "language_info": {
   "codemirror_mode": {
    "name": "ipython",
    "version": 3
   },
   "file_extension": ".py",
   "mimetype": "text/x-python",
   "name": "python",
   "nbconvert_exporter": "python",
   "pygments_lexer": "ipython3",
   "version": "3.10.13"
  }
 },
 "nbformat": 4,
 "nbformat_minor": 5
}
